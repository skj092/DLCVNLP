{
 "cells": [
  {
   "cell_type": "code",
   "execution_count": 1,
   "id": "exterior-pioneer",
   "metadata": {},
   "outputs": [],
   "source": [
    "#create a tuple from multiple data types"
   ]
  },
  {
   "cell_type": "code",
   "execution_count": 7,
   "id": "light-newport",
   "metadata": {},
   "outputs": [],
   "source": [
    "touple = (1, True, 3.455, 'hello')"
   ]
  },
  {
   "cell_type": "code",
   "execution_count": 3,
   "id": "endless-bradford",
   "metadata": {},
   "outputs": [],
   "source": [
    "#Create a list of length 3 and Create a list of length 4, For each element in the first list,\n",
    "#Display the corresponding index element of the second list"
   ]
  },
  {
   "cell_type": "code",
   "execution_count": 9,
   "id": "unlike-unemployment",
   "metadata": {},
   "outputs": [
    {
     "name": "stdout",
     "output_type": "stream",
     "text": [
      "hola sonu\n",
      "como te\n",
      "esta este\n"
     ]
    }
   ],
   "source": [
    "# list of length 3\n",
    "list1 = ['hola','como','esta']\n",
    "\n",
    "# list of length 4\n",
    "list2 = ['sonu','te','este','amaga']\n",
    "\n",
    "for a,b in zip(list1, list2):\n",
    "    print(a, b)"
   ]
  },
  {
   "cell_type": "code",
   "execution_count": 10,
   "id": "worst-discussion",
   "metadata": {},
   "outputs": [],
   "source": [
    "# display an example of Nested For Loops Using List Comprehension"
   ]
  },
  {
   "cell_type": "code",
   "execution_count": 28,
   "id": "alleged-hearts",
   "metadata": {},
   "outputs": [
    {
     "name": "stdout",
     "output_type": "stream",
     "text": [
      "hola sonu\n",
      "hola te\n",
      "hola este\n",
      "hola amaga\n",
      "como sonu\n",
      "como te\n",
      "como este\n",
      "como amaga\n",
      "esta sonu\n",
      "esta te\n",
      "esta este\n",
      "esta amaga\n"
     ]
    }
   ],
   "source": [
    "# list of length 3\n",
    "list1 = ['hola','como','esta']\n",
    "\n",
    "# list of length 4\n",
    "list2 = ['sonu','te','este','amaga']\n",
    "\n",
    "for i in list1:\n",
    "    for j in list2:\n",
    "        print(i,j)"
   ]
  },
  {
   "cell_type": "code",
   "execution_count": 30,
   "id": "beautiful-external",
   "metadata": {},
   "outputs": [
    {
     "data": {
      "text/plain": [
       "[('hola', 'sonu'),\n",
       " ('hola', 'te'),\n",
       " ('hola', 'este'),\n",
       " ('hola', 'amaga'),\n",
       " ('como', 'sonu'),\n",
       " ('como', 'te'),\n",
       " ('como', 'este'),\n",
       " ('como', 'amaga'),\n",
       " ('esta', 'sonu'),\n",
       " ('esta', 'te'),\n",
       " ('esta', 'este'),\n",
       " ('esta', 'amaga')]"
      ]
     },
     "execution_count": 30,
     "metadata": {},
     "output_type": "execute_result"
    }
   ],
   "source": [
    "[(i,j) for i in list1 for j in list2]"
   ]
  },
  {
   "cell_type": "code",
   "execution_count": 5,
   "id": "intellectual-savage",
   "metadata": {},
   "outputs": [],
   "source": [
    "#write a program for breaking and exiting out of loop"
   ]
  },
  {
   "cell_type": "code",
   "execution_count": 39,
   "id": "golden-cycling",
   "metadata": {},
   "outputs": [
    {
     "name": "stdout",
     "output_type": "stream",
     "text": [
      "1\n",
      "2\n"
     ]
    }
   ],
   "source": [
    "l1 = list(range(1,10))\n",
    "for i in l1:\n",
    "    print(i)\n",
    "    if i%2==0:\n",
    "        break"
   ]
  },
  {
   "cell_type": "code",
   "execution_count": 6,
   "id": "surrounded-chemical",
   "metadata": {},
   "outputs": [],
   "source": [
    "#A loop will exit when completed, but using an else statement we can add an action at t\n",
    "# he conclusion of the loop if it hasn’t been exited earlier."
   ]
  },
  {
   "cell_type": "code",
   "execution_count": null,
   "id": "incomplete-reader",
   "metadata": {},
   "outputs": [],
   "source": [
    "list1 = [1,2,3,4,5]\n",
    "for number in list1:\n",
    "    print(number)\n",
    "    if number==3:\n",
    "        break\n",
    "else:\n",
    "    print('3 does not exist in the list given above')"
   ]
  }
 ],
 "metadata": {
  "kernelspec": {
   "display_name": "Python 3",
   "language": "python",
   "name": "python3"
  },
  "language_info": {
   "codemirror_mode": {
    "name": "ipython",
    "version": 3
   },
   "file_extension": ".py",
   "mimetype": "text/x-python",
   "name": "python",
   "nbconvert_exporter": "python",
   "pygments_lexer": "ipython3",
   "version": "3.9.1"
  }
 },
 "nbformat": 4,
 "nbformat_minor": 5
}
