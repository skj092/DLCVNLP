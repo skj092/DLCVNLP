{
 "cells": [
  {
   "cell_type": "code",
   "execution_count": 22,
   "id": "racial-chamber",
   "metadata": {},
   "outputs": [],
   "source": [
    "import PyPDF2\n",
    "import pandas as pd\n",
    "from glob import glob\n",
    "from docx import Document"
   ]
  },
  {
   "cell_type": "code",
   "execution_count": 23,
   "id": "controlled-suspect",
   "metadata": {},
   "outputs": [],
   "source": [
    "pdfs = glob('Parent/**/*.pdf')\n",
    "texts = glob('Parent/**/*.txt')\n",
    "docxs = glob('Parent/**/*.docx')"
   ]
  },
  {
   "cell_type": "code",
   "execution_count": 24,
   "id": "adjacent-screen",
   "metadata": {},
   "outputs": [
    {
     "data": {
      "text/plain": [
       "['Parent\\\\child1\\\\ticket1.pdf',\n",
       " 'Parent\\\\child2\\\\ticket2.pdf',\n",
       " 'Parent\\\\child3\\\\ticket3.pdf']"
      ]
     },
     "execution_count": 24,
     "metadata": {},
     "output_type": "execute_result"
    }
   ],
   "source": [
    "pdfs"
   ]
  },
  {
   "cell_type": "code",
   "execution_count": 29,
   "id": "nasty-brush",
   "metadata": {},
   "outputs": [
    {
     "name": "stdout",
     "output_type": "stream",
     "text": [
      "3\n",
      "3\n",
      "3\n",
      "---------------Text-------------------\n",
      "Empty DataFrame\n",
      "Columns: [Hello world]\n",
      "Index: []\n",
      "Empty DataFrame\n",
      "Columns: [Hello world]\n",
      "Index: []\n",
      "Empty DataFrame\n",
      "Columns: [Hello world]\n",
      "Index: []\n",
      "-----------------docs------------------\n",
      "NAGMA SHAIKH\n",
      "08, UNITY HEIGHT MHADA COLONY\n",
      "MUMBRA, 400612\n",
      "8433540306\n",
      "nagmam9378@gmail.com\n",
      "SKILLS\n",
      "Experienced in sales and handling foreign clients.\n",
      "Greet customers and ascertain what each customer needs.\n",
      "Adopt a team approach to achieve objectives. \n",
      "Excellent communication skill and attitude towards each customer.\n",
      "EXPERIENCE\n",
      "FAB INDIA,  Location - CUSTOMER RELATIONSHIP EXECUTIVE\n",
      "MAY 2019 - OCTOBER 2019\n",
      "Mejor tasks include sales and promotion of the products.\n",
      "Responsible for generating and analyzing monthly sales reports.\n",
      "JM GLOBAL SERVICE, Location - CUSTOMER RELATIONSHIP EXECUTIVE\n",
      "MAY 2020 - SEPT 2020\n",
      "EDUCATION\n",
      "R. J. COLLEGE, GHATKOPAR - B.A\n",
      "JUNE 2016 - MAR 2019\n",
      "ST MARY COLLEGE, MUMBRA - H.S.C\n",
      "MONTH 2015 - MONTH 2016\n",
      "AMRIT EDUCATION SCHOOL, MUMBRA - S.S.C\n",
      "MONTH 2014 - MONTH 2015\n",
      "AWARDS\n",
      "FAB INDIA (TOP PERFORMER AWARD)\n",
      "KOHINOOR BUSINESS SCHOOL SINGING COMPETITION  (1st Prize)\n",
      "NAGMA SHAIKH\n",
      "08, UNITY HEIGHT MHADA COLONY\n",
      "MUMBRA, 400612\n",
      "8433540306\n",
      "nagmam9378@gmail.com\n",
      "SKILLS\n",
      "Experienced in sales and handling foreign clients.\n",
      "Greet customers and ascertain what each customer needs.\n",
      "Adopt a team approach to achieve objectives. \n",
      "Excellent communication skill and attitude towards each customer.\n",
      "EXPERIENCE\n",
      "FAB INDIA,  Location - CUSTOMER RELATIONSHIP EXECUTIVE\n",
      "MAY 2019 - OCTOBER 2019\n",
      "Mejor tasks include sales and promotion of the products.\n",
      "Responsible for generating and analyzing monthly sales reports.\n",
      "JM GLOBAL SERVICE, Location - CUSTOMER RELATIONSHIP EXECUTIVE\n",
      "MAY 2020 - SEPT 2020\n",
      "EDUCATION\n",
      "R. J. COLLEGE, GHATKOPAR - B.A\n",
      "JUNE 2016 - MAR 2019\n",
      "ST MARY COLLEGE, MUMBRA - H.S.C\n",
      "MONTH 2015 - MONTH 2016\n",
      "AMRIT EDUCATION SCHOOL, MUMBRA - S.S.C\n",
      "MONTH 2014 - MONTH 2015\n",
      "AWARDS\n",
      "FAB INDIA (TOP PERFORMER AWARD)\n",
      "KOHINOOR BUSINESS SCHOOL SINGING COMPETITION  (1st Prize)\n",
      "NAGMA SHAIKH\n",
      "08, UNITY HEIGHT MHADA COLONY\n",
      "MUMBRA, 400612\n",
      "8433540306\n",
      "nagmam9378@gmail.com\n",
      "SKILLS\n",
      "Experienced in sales and handling foreign clients.\n",
      "Greet customers and ascertain what each customer needs.\n",
      "Adopt a team approach to achieve objectives. \n",
      "Excellent communication skill and attitude towards each customer.\n",
      "EXPERIENCE\n",
      "FAB INDIA,  Location - CUSTOMER RELATIONSHIP EXECUTIVE\n",
      "MAY 2019 - OCTOBER 2019\n",
      "Mejor tasks include sales and promotion of the products.\n",
      "Responsible for generating and analyzing monthly sales reports.\n",
      "JM GLOBAL SERVICE, Location - CUSTOMER RELATIONSHIP EXECUTIVE\n",
      "MAY 2020 - SEPT 2020\n",
      "EDUCATION\n",
      "R. J. COLLEGE, GHATKOPAR - B.A\n",
      "JUNE 2016 - MAR 2019\n",
      "ST MARY COLLEGE, MUMBRA - H.S.C\n",
      "MONTH 2015 - MONTH 2016\n",
      "AMRIT EDUCATION SCHOOL, MUMBRA - S.S.C\n",
      "MONTH 2014 - MONTH 2015\n",
      "AWARDS\n",
      "FAB INDIA (TOP PERFORMER AWARD)\n",
      "KOHINOOR BUSINESS SCHOOL SINGING COMPETITION  (1st Prize)\n"
     ]
    }
   ],
   "source": [
    "for pdf in pdfs:\n",
    "    reader = PyPDF2.PdfFileReader(pdf)\n",
    "    print(reader.numPages)\n",
    "    \n",
    "print('---------------Text-------------------')\n",
    "\n",
    "for text in texts: \n",
    "    text = pd.read_table(text)\n",
    "    print(text)\n",
    "\n",
    "print('-----------------docs------------------')\n",
    "for doc in docxs:\n",
    "    doc = Document(doc)\n",
    "    for p in doc.paragraphs:\n",
    "        print(p.text)"
   ]
  },
  {
   "cell_type": "code",
   "execution_count": null,
   "id": "arbitrary-algorithm",
   "metadata": {},
   "outputs": [],
   "source": []
  }
 ],
 "metadata": {
  "kernelspec": {
   "display_name": "Python 3",
   "language": "python",
   "name": "python3"
  },
  "language_info": {
   "codemirror_mode": {
    "name": "ipython",
    "version": 3
   },
   "file_extension": ".py",
   "mimetype": "text/x-python",
   "name": "python",
   "nbconvert_exporter": "python",
   "pygments_lexer": "ipython3",
   "version": "3.9.1"
  }
 },
 "nbformat": 4,
 "nbformat_minor": 5
}
