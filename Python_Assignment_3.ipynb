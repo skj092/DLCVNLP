{
  "nbformat": 4,
  "nbformat_minor": 0,
  "metadata": {
    "colab": {
      "name": "Python Assignment 3.ipynb",
      "provenance": [],
      "authorship_tag": "ABX9TyNAltUjQXXhhB/mg6iEhR91",
      "include_colab_link": true
    },
    "kernelspec": {
      "name": "python3",
      "display_name": "Python 3"
    }
  },
  "cells": [
    {
      "cell_type": "markdown",
      "metadata": {
        "id": "view-in-github",
        "colab_type": "text"
      },
      "source": [
        "<a href=\"https://colab.research.google.com/github/skj092/iNeuron/blob/main/Python_Assignment_3.ipynb\" target=\"_parent\"><img src=\"https://colab.research.google.com/assets/colab-badge.svg\" alt=\"Open In Colab\"/></a>"
      ]
    },
    {
      "cell_type": "markdown",
      "metadata": {
        "id": "v0i4d72--8OQ"
      },
      "source": [
        "# Problem 1.1"
      ]
    },
    {
      "cell_type": "markdown",
      "metadata": {
        "id": "8Cxqx_sM_G2a"
      },
      "source": [
        "*Write a Python Program to implement yor own myreduce() function which workds exactly like Python's built-in funciton reduce()*"
      ]
    },
    {
      "cell_type": "code",
      "metadata": {
        "id": "640zVl__BS5G"
      },
      "source": [
        "# Solution\r\n",
        "\r\n"
      ],
      "execution_count": null,
      "outputs": []
    },
    {
      "cell_type": "markdown",
      "metadata": {
        "id": "bQryUMJG_Rwo"
      },
      "source": [
        "# Problem 1,2"
      ]
    },
    {
      "cell_type": "markdown",
      "metadata": {
        "id": "In5vPBPW_VQH"
      },
      "source": [
        "*Write a Python program to implement your own myfilter() function which works exactly like Python's built-in funciton filter()*"
      ]
    },
    {
      "cell_type": "markdown",
      "metadata": {
        "id": "Os4pUt5y_lrq"
      },
      "source": [
        "# Problem 2"
      ]
    },
    {
      "cell_type": "markdown",
      "metadata": {
        "id": "wK2xGrTJ_nyh"
      },
      "source": [
        "Implement List comprehensions to produce the flowing lists.\r\n",
        "\r\n",
        "['x','xx','xxx','xxxx','y','yy','yyy','yyyy','z','zz',zzz','zzzz]</br>\r\n",
        "\r\n",
        "['x','y','z','xx','yy','zz','xxx','yyy','zzz','xxxx','yyyy','xxxx']</br>\r\n",
        "\r\n",
        "[[2],[3],[4],[5],[6]] [[2,3,4,5],[3,4,5,6],[4,5,6,7],[5,6,7,8]]</br>\r\n",
        "\r\n",
        "[(1,1),(2,1),(3,1),(1,2),(2,2,),(3,2),(1,3),(2,3),(3,3)]"
      ]
    },
    {
      "cell_type": "code",
      "metadata": {
        "id": "fFE10vFnA1rt"
      },
      "source": [
        ""
      ],
      "execution_count": null,
      "outputs": []
    }
  ]
}