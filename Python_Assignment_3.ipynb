{
  "nbformat": 4,
  "nbformat_minor": 0,
  "metadata": {
    "colab": {
      "name": "Python Assignment 3.ipynb",
      "provenance": [],
      "authorship_tag": "ABX9TyOZOciBjNEvpEoetfpc9itj",
      "include_colab_link": true
    },
    "kernelspec": {
      "name": "python3",
      "display_name": "Python 3"
    }
  },
  "cells": [
    {
      "cell_type": "markdown",
      "metadata": {
        "id": "view-in-github",
        "colab_type": "text"
      },
      "source": [
        "<a href=\"https://colab.research.google.com/github/skj092/iNeuron/blob/main/Python_Assignment_3.ipynb\" target=\"_parent\"><img src=\"https://colab.research.google.com/assets/colab-badge.svg\" alt=\"Open In Colab\"/></a>"
      ]
    },
    {
      "cell_type": "markdown",
      "metadata": {
        "id": "v0i4d72--8OQ"
      },
      "source": [
        "# Problem 1.1"
      ]
    },
    {
      "cell_type": "markdown",
      "metadata": {
        "id": "8Cxqx_sM_G2a"
      },
      "source": [
        "*Write a Python Program to implement yor own myreduce() function which workds exactly like Python's built-in funciton reduce()*"
      ]
    },
    {
      "cell_type": "code",
      "metadata": {
        "id": "640zVl__BS5G",
        "colab": {
          "base_uri": "https://localhost:8080/"
        },
        "outputId": "551018b7-8140-40b4-e2cc-66b97d871efe"
      },
      "source": [
        "# Solution\r\n",
        "from functools import reduce\r\n",
        "\r\n",
        "l1 = [2,4,6,8]\r\n",
        "f = lambda x,y : x+y\r\n",
        "print(reduce(f, l1))\r\n",
        "\r\n",
        "def myreduce(f, l1):\r\n",
        "    it = iter(l1)\r\n",
        "    v = next(it)\r\n",
        "    for i in it:\r\n",
        "        v = f(v, i)\r\n",
        "    return v\r\n",
        "print(myreduce(f, l1))"
      ],
      "execution_count": 1,
      "outputs": [
        {
          "output_type": "stream",
          "text": [
            "20\n",
            "20\n"
          ],
          "name": "stdout"
        }
      ]
    },
    {
      "cell_type": "markdown",
      "metadata": {
        "id": "bQryUMJG_Rwo"
      },
      "source": [
        "# Problem 1,2"
      ]
    },
    {
      "cell_type": "markdown",
      "metadata": {
        "id": "In5vPBPW_VQH"
      },
      "source": [
        "*Write a Python program to implement your own myfilter() function which works exactly like Python's built-in funciton filter()*"
      ]
    },
    {
      "cell_type": "markdown",
      "metadata": {
        "id": "Os4pUt5y_lrq"
      },
      "source": [
        "# Problem 2"
      ]
    },
    {
      "cell_type": "markdown",
      "metadata": {
        "id": "wK2xGrTJ_nyh"
      },
      "source": [
        "Implement List comprehensions to produce the flowing lists.\r\n",
        "\r\n",
        "['x','xx','xxx','xxxx','y','yy','yyy','yyyy','z','zz',zzz','zzzz]</br>\r\n",
        "\r\n",
        "['x','y','z','xx','yy','zz','xxx','yyy','zzz','xxxx','yyyy','xxxx']</br>\r\n",
        "\r\n",
        "[[2],[3],[4],[5],[6]]</br>\r\n",
        "\r\n",
        "[[2,3,4,5],[3,4,5,6],[4,5,6,7],[5,6,7,8]]</br>\r\n",
        "\r\n",
        "[(1,1),(2,1),(3,1),(1,2),(2,2,),(3,2),(1,3),(2,3),(3,3)]"
      ]
    },
    {
      "cell_type": "code",
      "metadata": {
        "colab": {
          "base_uri": "https://localhost:8080/"
        },
        "id": "bD7S73g2KlIT",
        "outputId": "cd643bdb-5e8f-4af3-ab4d-7f782be131ab"
      },
      "source": [
        "# solution 1\r\n",
        "print([i*a for a in ('x','y','z') for i in range(1,5)])"
      ],
      "execution_count": 2,
      "outputs": [
        {
          "output_type": "stream",
          "text": [
            "['x', 'xx', 'xxx', 'xxxx', 'y', 'yy', 'yyy', 'yyyy', 'z', 'zz', 'zzz', 'zzzz']\n"
          ],
          "name": "stdout"
        }
      ]
    },
    {
      "cell_type": "code",
      "metadata": {
        "colab": {
          "base_uri": "https://localhost:8080/"
        },
        "id": "Xbkqfsm9KrwB",
        "outputId": "50bdbae0-3bef-4e27-f6ba-baf75bb0a5d0"
      },
      "source": [
        "# solution 2\r\n",
        "print([i*a for i in range(1,5) for a in ('x','y','z')])"
      ],
      "execution_count": 3,
      "outputs": [
        {
          "output_type": "stream",
          "text": [
            "['x', 'y', 'z', 'xx', 'yy', 'zz', 'xxx', 'yyy', 'zzz', 'xxxx', 'yyyy', 'zzzz']\n"
          ],
          "name": "stdout"
        }
      ]
    },
    {
      "cell_type": "code",
      "metadata": {
        "colab": {
          "base_uri": "https://localhost:8080/"
        },
        "id": "6JhdWjHxKtQH",
        "outputId": "377e870d-3fb4-42fa-f5c4-82768e62febe"
      },
      "source": [
        "# solution 3\r\n",
        "print([[i+j] for i in range(1,4) for j in range(1,4)])"
      ],
      "execution_count": 4,
      "outputs": [
        {
          "output_type": "stream",
          "text": [
            "[[2], [3], [4], [3], [4], [5], [4], [5], [6]]\n"
          ],
          "name": "stdout"
        }
      ]
    },
    {
      "cell_type": "code",
      "metadata": {
        "colab": {
          "base_uri": "https://localhost:8080/"
        },
        "id": "qhioDIX0Ku4f",
        "outputId": "acb81d00-6caf-4e7b-eaab-1e6665e9953a"
      },
      "source": [
        "# solution 4\r\n",
        "print([[i,i+1,i+2,i+3] for i in range(2,6)])"
      ],
      "execution_count": 5,
      "outputs": [
        {
          "output_type": "stream",
          "text": [
            "[[2, 3, 4, 5], [3, 4, 5, 6], [4, 5, 6, 7], [5, 6, 7, 8]]\n"
          ],
          "name": "stdout"
        }
      ]
    },
    {
      "cell_type": "code",
      "metadata": {
        "colab": {
          "base_uri": "https://localhost:8080/"
        },
        "id": "GTxqgkshKwa3",
        "outputId": "d93a1d20-c316-4aa3-8f7c-0a22291f2200"
      },
      "source": [
        "# solution 5\r\n",
        "print([(i,j) for i in range(1,4) for j in range(1,4)])"
      ],
      "execution_count": 6,
      "outputs": [
        {
          "output_type": "stream",
          "text": [
            "[(1, 1), (1, 2), (1, 3), (2, 1), (2, 2), (2, 3), (3, 1), (3, 2), (3, 3)]\n"
          ],
          "name": "stdout"
        }
      ]
    },
    {
      "cell_type": "code",
      "metadata": {
        "id": "Z3ymlRAmK1Vo"
      },
      "source": [
        ""
      ],
      "execution_count": null,
      "outputs": []
    }
  ]
}