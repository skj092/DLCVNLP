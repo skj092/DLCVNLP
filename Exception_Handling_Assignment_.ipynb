{
  "nbformat": 4,
  "nbformat_minor": 0,
  "metadata": {
    "colab": {
      "name": "Exception_Handling_Assignment_.ipynb",
      "provenance": [],
      "authorship_tag": "ABX9TyNDyT+cFVgXIekAJNkjKNfG",
      "include_colab_link": true
    },
    "kernelspec": {
      "name": "python3",
      "display_name": "Python 3"
    }
  },
  "cells": [
    {
      "cell_type": "markdown",
      "metadata": {
        "id": "view-in-github",
        "colab_type": "text"
      },
      "source": [
        "<a href=\"https://colab.research.google.com/github/skj092/iNeuron/blob/main/Exception_Handling_Assignment_.ipynb\" target=\"_parent\"><img src=\"https://colab.research.google.com/assets/colab-badge.svg\" alt=\"Open In Colab\"/></a>"
      ]
    },
    {
      "cell_type": "markdown",
      "metadata": {
        "id": "o0BDVr-rbtBT"
      },
      "source": [
        "`Write a funciton to compute 5/0 and use try/except to catch the exceptions.`"
      ]
    },
    {
      "cell_type": "code",
      "metadata": {
        "colab": {
          "base_uri": "https://localhost:8080/"
        },
        "id": "I8TY0QKZaCLs",
        "outputId": "6e1b6d16-5d52-4bc6-8a71-8133b09d2501"
      },
      "source": [
        "\r\n",
        "a = 5\r\n",
        "b = 0\r\n",
        "try:\r\n",
        "    c = a/b \r\n",
        "except:\r\n",
        "    print('Error : Device by zero') \r\n",
        "else:\r\n",
        "    print(c)"
      ],
      "execution_count": 1,
      "outputs": [
        {
          "output_type": "stream",
          "text": [
            "Error : Device by zero\n"
          ],
          "name": "stdout"
        }
      ]
    },
    {
      "cell_type": "markdown",
      "metadata": {
        "id": "wh0_CSEQaKxZ"
      },
      "source": [
        "`Implement a Python program to generate all sentences where subject is in ['Americans', \"indians\"] and verb is in [\"Play\", \"watch\"] and the object is in ['Baseball','cricket'].`\r\n",
        "`hint : subject, verb and object should be declared in the program as show below.`\r\n",
        "`subjects = ['Americans', 'Indians']`\r\n",
        "`verbs = ['play', 'watch']`\r\n",
        "`objects = ['Baseball', 'Cricket']`\r\n",
        "\r\n",
        "* Output should come as below\r\n",
        "* Americans play Baseball\r\n",
        "* Americans play Cricket\r\n",
        "* Americans watch Baseball\r\n",
        "* Americans watch Cricket\r\n",
        "* Indians play Baseball\r\n",
        "* Indians play Cricket\r\n",
        "* Indians watch Baseball\r\n",
        "* Indians watch Cricket"
      ]
    },
    {
      "cell_type": "code",
      "metadata": {
        "colab": {
          "base_uri": "https://localhost:8080/"
        },
        "id": "1QBG9zsqaGlo",
        "outputId": "09dbef5b-f47b-4cad-b2aa-830587277d56"
      },
      "source": [
        "subjects = ['Americans', 'Indians']\r\n",
        "verbs = ['play', 'watch']\r\n",
        "objects = ['Baseball', 'Cricket'] \r\n",
        "\r\n",
        "agg = [subjects, verbs, objects]\r\n",
        "import itertools\r\n",
        "for s1, s2, s3 in list(itertools.product(*agg)):\r\n",
        "    print(s1, s2, s3)"
      ],
      "execution_count": 2,
      "outputs": [
        {
          "output_type": "stream",
          "text": [
            "Americans play Baseball\n",
            "Americans play Cricket\n",
            "Americans watch Baseball\n",
            "Americans watch Cricket\n",
            "Indians play Baseball\n",
            "Indians play Cricket\n",
            "Indians watch Baseball\n",
            "Indians watch Cricket\n"
          ],
          "name": "stdout"
        }
      ]
    },
    {
      "cell_type": "code",
      "metadata": {
        "id": "x0VlR87KcPhl"
      },
      "source": [
        ""
      ],
      "execution_count": null,
      "outputs": []
    }
  ]
}