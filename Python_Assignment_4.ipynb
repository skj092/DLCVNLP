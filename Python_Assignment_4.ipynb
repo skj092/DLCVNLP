{
  "nbformat": 4,
  "nbformat_minor": 0,
  "metadata": {
    "colab": {
      "name": "Python_Assignment_4.ipynb",
      "provenance": [],
      "authorship_tag": "ABX9TyPlfAvEQNYu+cZNBXSMJQeY",
      "include_colab_link": true
    },
    "kernelspec": {
      "name": "python3",
      "display_name": "Python 3"
    }
  },
  "cells": [
    {
      "cell_type": "markdown",
      "metadata": {
        "id": "view-in-github",
        "colab_type": "text"
      },
      "source": [
        "<a href=\"https://colab.research.google.com/github/skj092/iNeuron/blob/main/Python_Assignment_4.ipynb\" target=\"_parent\"><img src=\"https://colab.research.google.com/assets/colab-badge.svg\" alt=\"Open In Colab\"/></a>"
      ]
    },
    {
      "cell_type": "markdown",
      "metadata": {
        "id": "XrJ9MrDoN6l0"
      },
      "source": [
        "`1.1. Write a Python Program(with class concepts) to find the area using below formula.`\r\n",
        "\r\n",
        "`area = (s*(s-1)*(s-b)*(s-c))**0.5`\r\n",
        "\r\n",
        "`Function to take the length of the sides of triangle from user should be defined in the parent classs and function to calculate the area should be defined in subclass`"
      ]
    },
    {
      "cell_type": "code",
      "metadata": {
        "colab": {
          "base_uri": "https://localhost:8080/",
          "height": 35
        },
        "id": "lacj6g1QO_iG",
        "outputId": "e4105683-3e71-4e2a-9566-94960d224834"
      },
      "source": [
        "class Triangle:\r\n",
        "  def __init__(self, side1, side2, side3):\r\n",
        "    self.a = side1\r\n",
        "    self.b = side2\r\n",
        "    self.c = side3\r\n",
        "\r\n",
        "class Triangle1(Triangle):\r\n",
        "  def area(self):\r\n",
        "    s = (self.a+self.b+self.c)/2\r\n",
        "    return \"Are of the triangle is %f sq unit\"%(s*(s-self.a)*(s-self.b)*(s-self.c))**(0.5)\r\n",
        "    \r\n",
        "abc = Triangle1(2,3,4)\r\n",
        "abc.area()"
      ],
      "execution_count": 8,
      "outputs": [
        {
          "output_type": "execute_result",
          "data": {
            "application/vnd.google.colaboratory.intrinsic+json": {
              "type": "string"
            },
            "text/plain": [
              "'Are of the triangle is 2.904738 sq unit'"
            ]
          },
          "metadata": {
            "tags": []
          },
          "execution_count": 8
        }
      ]
    },
    {
      "cell_type": "markdown",
      "metadata": {
        "id": "c-V4rZjjOVRj"
      },
      "source": [
        "`1.2 Write a function filter_long_words() that takes a list of words and an integer n and returns the list of words that are longer thean n.`"
      ]
    },
    {
      "cell_type": "code",
      "metadata": {
        "colab": {
          "base_uri": "https://localhost:8080/"
        },
        "id": "rzCSAFxPR67W",
        "outputId": "ce85ba2a-5bc9-4165-e112-349811e84f4e"
      },
      "source": [
        "def filter_long_words(l, n):\r\n",
        "  return [i for i in l if len(i)>n]\r\n",
        "\r\n",
        "l1 = ['hello', 'world', 'today','is', 'sunday']\r\n",
        "filter_long_words(l1, 5)"
      ],
      "execution_count": 9,
      "outputs": [
        {
          "output_type": "execute_result",
          "data": {
            "text/plain": [
              "['sunday']"
            ]
          },
          "metadata": {
            "tags": []
          },
          "execution_count": 9
        }
      ]
    },
    {
      "cell_type": "markdown",
      "metadata": {
        "id": "i-VmBDf9Ofz9"
      },
      "source": [
        "`2.1 Write a Python program using function concepts that maps list of words into a list of integers representing the lengths of the corresponding words.`\r\n",
        "`Hint : If a list [ab, cde, erty] is passed on to the python function output should come as [2,3,4]`\r\n",
        "`Here 2,3 and 4 are the lengths of the words in the list.`"
      ]
    },
    {
      "cell_type": "code",
      "metadata": {
        "colab": {
          "base_uri": "https://localhost:8080/"
        },
        "id": "yAFkChj-SdNg",
        "outputId": "5e4d1678-7aab-48ca-ff6c-5ba8a3520a36"
      },
      "source": [
        "def f(l):\r\n",
        "  return [len(i) for i in l]\r\n",
        "l1 = ['ab', 'cde', 'erty']\r\n",
        "f(l1)"
      ],
      "execution_count": 11,
      "outputs": [
        {
          "output_type": "execute_result",
          "data": {
            "text/plain": [
              "[2, 3, 4]"
            ]
          },
          "metadata": {
            "tags": []
          },
          "execution_count": 11
        }
      ]
    },
    {
      "cell_type": "markdown",
      "metadata": {
        "id": "spii3c9JO2SR"
      },
      "source": [
        "`2.2 Write a Python function which takes a character (i.e a string of length 1) and returns True if it is a vowel, False otherwise.`"
      ]
    },
    {
      "cell_type": "code",
      "metadata": {
        "colab": {
          "base_uri": "https://localhost:8080/"
        },
        "id": "sRQb0PPNTdQ5",
        "outputId": "1fdc7823-0e5b-4153-92f6-4b97f0f772b4"
      },
      "source": [
        "def is_vowel(a):\r\n",
        "  if str(a) in ['a', 'e', 'i', 'o', 'u']:\r\n",
        "    return True\r\n",
        "  else:\r\n",
        "    return False\r\n",
        "\r\n",
        "is_vowel(5)"
      ],
      "execution_count": 12,
      "outputs": [
        {
          "output_type": "execute_result",
          "data": {
            "text/plain": [
              "False"
            ]
          },
          "metadata": {
            "tags": []
          },
          "execution_count": 12
        }
      ]
    },
    {
      "cell_type": "code",
      "metadata": {
        "id": "wlgBE4ulU4O8"
      },
      "source": [
        ""
      ],
      "execution_count": null,
      "outputs": []
    }
  ]
}