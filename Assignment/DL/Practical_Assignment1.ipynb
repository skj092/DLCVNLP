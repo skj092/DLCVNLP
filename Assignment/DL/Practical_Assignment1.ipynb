{
  "nbformat": 4,
  "nbformat_minor": 0,
  "metadata": {
    "colab": {
      "name": "Practical-Assignment1",
      "provenance": [],
      "collapsed_sections": [],
      "include_colab_link": true
    },
    "kernelspec": {
      "display_name": "Python 3",
      "name": "python3"
    }
  },
  "cells": [
    {
      "cell_type": "markdown",
      "metadata": {
        "id": "view-in-github",
        "colab_type": "text"
      },
      "source": [
        "<a href=\"https://colab.research.google.com/github/skj092/iNeuron/blob/main/Practical_Assignment1.ipynb\" target=\"_parent\"><img src=\"https://colab.research.google.com/assets/colab-badge.svg\" alt=\"Open In Colab\"/></a>"
      ]
    },
    {
      "cell_type": "markdown",
      "metadata": {
        "id": "35CHUT-M4bez"
      },
      "source": [
        "# Objective : Image Classification with CIFAR 100"
      ]
    },
    {
      "cell_type": "markdown",
      "metadata": {
        "id": "c4L9ZgUl4iA8"
      },
      "source": [
        "`This dataset is just like the CIFAR-10, except it has 100 classes containing 600 images each. There are d500 training images and 100 testing images per class. The 100 classes in the CIFAR-100 are \n",
        "grouped into 20 superclasses. Each image comes with a \"Fine\" label (the class to which it belongs) and a \"ccoarse\" label (the super class to which it belongs).`"
      ]
    },
    {
      "cell_type": "markdown",
      "metadata": {
        "id": "Hi8itrAE4-WH"
      },
      "source": [
        "**[Link of the dataset](https://www.cs.toronto.edu/~kriz/cifar-10-python.tar.gz)**"
      ]
    },
    {
      "cell_type": "markdown",
      "metadata": {
        "id": "gojK7MBf5SsB"
      },
      "source": [
        "`Task : Create a Web Application using Flask. Use the end user should be able to upload an image and get result with the prediction score.`"
      ]
    },
    {
      "cell_type": "code",
      "metadata": {
        "id": "qSCu0_Jl5hna",
        "colab": {
          "base_uri": "https://localhost:8080/"
        },
        "outputId": "7eecc5f6-0de2-450e-c6f5-f5f2321d21a2"
      },
      "source": [
        "!wget \"https://www.cs.toronto.edu/~kriz/cifar-10-python.tar.gz\""
      ],
      "execution_count": 1,
      "outputs": [
        {
          "output_type": "stream",
          "text": [
            "--2021-06-05 07:26:22--  https://www.cs.toronto.edu/~kriz/cifar-10-python.tar.gz\n",
            "Resolving www.cs.toronto.edu (www.cs.toronto.edu)... 128.100.3.30\n",
            "Connecting to www.cs.toronto.edu (www.cs.toronto.edu)|128.100.3.30|:443... connected.\n",
            "HTTP request sent, awaiting response... 200 OK\n",
            "Length: 170498071 (163M) [application/x-gzip]\n",
            "Saving to: ‘cifar-10-python.tar.gz’\n",
            "\n",
            "cifar-10-python.tar 100%[===================>] 162.60M  92.3MB/s    in 1.8s    \n",
            "\n",
            "2021-06-05 07:26:24 (92.3 MB/s) - ‘cifar-10-python.tar.gz’ saved [170498071/170498071]\n",
            "\n"
          ],
          "name": "stdout"
        }
      ]
    },
    {
      "cell_type": "code",
      "metadata": {
        "colab": {
          "base_uri": "https://localhost:8080/"
        },
        "id": "UH-FsOOLEM-t",
        "outputId": "7990c28c-84e6-459b-a4e5-2e52909efbbc"
      },
      "source": [
        "! tar -xvf cifar-10-python.tar.gz"
      ],
      "execution_count": 2,
      "outputs": [
        {
          "output_type": "stream",
          "text": [
            "cifar-10-batches-py/\n",
            "cifar-10-batches-py/data_batch_4\n",
            "cifar-10-batches-py/readme.html\n",
            "cifar-10-batches-py/test_batch\n",
            "cifar-10-batches-py/data_batch_3\n",
            "cifar-10-batches-py/batches.meta\n",
            "cifar-10-batches-py/data_batch_2\n",
            "cifar-10-batches-py/data_batch_5\n",
            "cifar-10-batches-py/data_batch_1\n"
          ],
          "name": "stdout"
        }
      ]
    },
    {
      "cell_type": "code",
      "metadata": {
        "id": "sdEdtb2AEZoc"
      },
      "source": [
        "# Importing libraries\n",
        "import pandas as pd \n",
        "import numpy as np \n",
        "import matplotlib.pyplot as plt\n",
        "from PIL import Image"
      ],
      "execution_count": 24,
      "outputs": []
    },
    {
      "cell_type": "code",
      "metadata": {
        "id": "8Xze37SEERFR"
      },
      "source": [
        "import pickle\n",
        "def unpickle(file):\n",
        "    import pickle\n",
        "    with open(file, 'rb') as fo:\n",
        "        dict = pickle.load(fo, encoding='bytes')\n",
        "    return dict"
      ],
      "execution_count": 5,
      "outputs": []
    },
    {
      "cell_type": "code",
      "metadata": {
        "id": "77O54z5MEUwy"
      },
      "source": [
        "# Extracting image array from the pickle dictionary\n",
        "testing1 = unpickle('cifar-10-batches-py/data_batch_1')[b'data']\n",
        "testing2 = unpickle('cifar-10-batches-py/data_batch_2')[b'data']\n",
        "testing3 = unpickle('cifar-10-batches-py/data_batch_3')[b'data']\n",
        "testing4 = unpickle('cifar-10-batches-py/data_batch_4')[b'data']\n",
        "testing5 = unpickle('cifar-10-batches-py/data_batch_5')[b'data']\n",
        "testing5 = unpickle('cifar-10-batches-py/data_batch_5')[b'data']\n",
        "test_batch= unpickle('cifar-10-batches-py/test_batch')[b'data']"
      ],
      "execution_count": 6,
      "outputs": []
    },
    {
      "cell_type": "code",
      "metadata": {
        "id": "CTUATq8zEcqO"
      },
      "source": [
        "# Converting array into dataframe\n",
        "testing1 = pd.DataFrame(testing1)\n",
        "testing2 = pd.DataFrame(testing2)\n",
        "testing3 = pd.DataFrame(testing3)\n",
        "testing4 = pd.DataFrame(testing4)\n",
        "testing5 = pd.DataFrame(testing5)\n",
        "test = pd.DataFrame(test_batch)"
      ],
      "execution_count": 7,
      "outputs": []
    },
    {
      "cell_type": "code",
      "metadata": {
        "id": "h883HgswEg3l"
      },
      "source": [
        "# Collecting all training and test dataset\n",
        "train = pd.concat([testing1, testing2, testing3, testing4, testing5])\n",
        "test = pd.DataFrame(test_batch)"
      ],
      "execution_count": 8,
      "outputs": []
    },
    {
      "cell_type": "code",
      "metadata": {
        "colab": {
          "base_uri": "https://localhost:8080/",
          "height": 253
        },
        "id": "8QQWZr3SEjaN",
        "outputId": "7d05b7b2-b65a-4718-8f42-155da4cb283e"
      },
      "source": [
        "train.head()"
      ],
      "execution_count": 9,
      "outputs": [
        {
          "output_type": "execute_result",
          "data": {
            "text/html": [
              "<div>\n",
              "<style scoped>\n",
              "    .dataframe tbody tr th:only-of-type {\n",
              "        vertical-align: middle;\n",
              "    }\n",
              "\n",
              "    .dataframe tbody tr th {\n",
              "        vertical-align: top;\n",
              "    }\n",
              "\n",
              "    .dataframe thead th {\n",
              "        text-align: right;\n",
              "    }\n",
              "</style>\n",
              "<table border=\"1\" class=\"dataframe\">\n",
              "  <thead>\n",
              "    <tr style=\"text-align: right;\">\n",
              "      <th></th>\n",
              "      <th>0</th>\n",
              "      <th>1</th>\n",
              "      <th>2</th>\n",
              "      <th>3</th>\n",
              "      <th>4</th>\n",
              "      <th>5</th>\n",
              "      <th>6</th>\n",
              "      <th>7</th>\n",
              "      <th>8</th>\n",
              "      <th>9</th>\n",
              "      <th>10</th>\n",
              "      <th>11</th>\n",
              "      <th>12</th>\n",
              "      <th>13</th>\n",
              "      <th>14</th>\n",
              "      <th>15</th>\n",
              "      <th>16</th>\n",
              "      <th>17</th>\n",
              "      <th>18</th>\n",
              "      <th>19</th>\n",
              "      <th>20</th>\n",
              "      <th>21</th>\n",
              "      <th>22</th>\n",
              "      <th>23</th>\n",
              "      <th>24</th>\n",
              "      <th>25</th>\n",
              "      <th>26</th>\n",
              "      <th>27</th>\n",
              "      <th>28</th>\n",
              "      <th>29</th>\n",
              "      <th>30</th>\n",
              "      <th>31</th>\n",
              "      <th>32</th>\n",
              "      <th>33</th>\n",
              "      <th>34</th>\n",
              "      <th>35</th>\n",
              "      <th>36</th>\n",
              "      <th>37</th>\n",
              "      <th>38</th>\n",
              "      <th>39</th>\n",
              "      <th>...</th>\n",
              "      <th>3032</th>\n",
              "      <th>3033</th>\n",
              "      <th>3034</th>\n",
              "      <th>3035</th>\n",
              "      <th>3036</th>\n",
              "      <th>3037</th>\n",
              "      <th>3038</th>\n",
              "      <th>3039</th>\n",
              "      <th>3040</th>\n",
              "      <th>3041</th>\n",
              "      <th>3042</th>\n",
              "      <th>3043</th>\n",
              "      <th>3044</th>\n",
              "      <th>3045</th>\n",
              "      <th>3046</th>\n",
              "      <th>3047</th>\n",
              "      <th>3048</th>\n",
              "      <th>3049</th>\n",
              "      <th>3050</th>\n",
              "      <th>3051</th>\n",
              "      <th>3052</th>\n",
              "      <th>3053</th>\n",
              "      <th>3054</th>\n",
              "      <th>3055</th>\n",
              "      <th>3056</th>\n",
              "      <th>3057</th>\n",
              "      <th>3058</th>\n",
              "      <th>3059</th>\n",
              "      <th>3060</th>\n",
              "      <th>3061</th>\n",
              "      <th>3062</th>\n",
              "      <th>3063</th>\n",
              "      <th>3064</th>\n",
              "      <th>3065</th>\n",
              "      <th>3066</th>\n",
              "      <th>3067</th>\n",
              "      <th>3068</th>\n",
              "      <th>3069</th>\n",
              "      <th>3070</th>\n",
              "      <th>3071</th>\n",
              "    </tr>\n",
              "  </thead>\n",
              "  <tbody>\n",
              "    <tr>\n",
              "      <th>0</th>\n",
              "      <td>59</td>\n",
              "      <td>43</td>\n",
              "      <td>50</td>\n",
              "      <td>68</td>\n",
              "      <td>98</td>\n",
              "      <td>119</td>\n",
              "      <td>139</td>\n",
              "      <td>145</td>\n",
              "      <td>149</td>\n",
              "      <td>149</td>\n",
              "      <td>131</td>\n",
              "      <td>125</td>\n",
              "      <td>142</td>\n",
              "      <td>144</td>\n",
              "      <td>137</td>\n",
              "      <td>129</td>\n",
              "      <td>137</td>\n",
              "      <td>134</td>\n",
              "      <td>124</td>\n",
              "      <td>139</td>\n",
              "      <td>139</td>\n",
              "      <td>133</td>\n",
              "      <td>136</td>\n",
              "      <td>139</td>\n",
              "      <td>152</td>\n",
              "      <td>163</td>\n",
              "      <td>168</td>\n",
              "      <td>159</td>\n",
              "      <td>158</td>\n",
              "      <td>158</td>\n",
              "      <td>152</td>\n",
              "      <td>148</td>\n",
              "      <td>16</td>\n",
              "      <td>0</td>\n",
              "      <td>18</td>\n",
              "      <td>51</td>\n",
              "      <td>88</td>\n",
              "      <td>120</td>\n",
              "      <td>128</td>\n",
              "      <td>127</td>\n",
              "      <td>...</td>\n",
              "      <td>39</td>\n",
              "      <td>30</td>\n",
              "      <td>11</td>\n",
              "      <td>0</td>\n",
              "      <td>57</td>\n",
              "      <td>94</td>\n",
              "      <td>34</td>\n",
              "      <td>34</td>\n",
              "      <td>116</td>\n",
              "      <td>94</td>\n",
              "      <td>87</td>\n",
              "      <td>67</td>\n",
              "      <td>68</td>\n",
              "      <td>76</td>\n",
              "      <td>72</td>\n",
              "      <td>70</td>\n",
              "      <td>79</td>\n",
              "      <td>82</td>\n",
              "      <td>86</td>\n",
              "      <td>92</td>\n",
              "      <td>94</td>\n",
              "      <td>92</td>\n",
              "      <td>84</td>\n",
              "      <td>90</td>\n",
              "      <td>93</td>\n",
              "      <td>91</td>\n",
              "      <td>83</td>\n",
              "      <td>77</td>\n",
              "      <td>69</td>\n",
              "      <td>55</td>\n",
              "      <td>59</td>\n",
              "      <td>58</td>\n",
              "      <td>65</td>\n",
              "      <td>59</td>\n",
              "      <td>46</td>\n",
              "      <td>57</td>\n",
              "      <td>104</td>\n",
              "      <td>140</td>\n",
              "      <td>84</td>\n",
              "      <td>72</td>\n",
              "    </tr>\n",
              "    <tr>\n",
              "      <th>1</th>\n",
              "      <td>154</td>\n",
              "      <td>126</td>\n",
              "      <td>105</td>\n",
              "      <td>102</td>\n",
              "      <td>125</td>\n",
              "      <td>155</td>\n",
              "      <td>172</td>\n",
              "      <td>180</td>\n",
              "      <td>142</td>\n",
              "      <td>111</td>\n",
              "      <td>106</td>\n",
              "      <td>109</td>\n",
              "      <td>123</td>\n",
              "      <td>127</td>\n",
              "      <td>181</td>\n",
              "      <td>217</td>\n",
              "      <td>209</td>\n",
              "      <td>166</td>\n",
              "      <td>164</td>\n",
              "      <td>158</td>\n",
              "      <td>116</td>\n",
              "      <td>102</td>\n",
              "      <td>95</td>\n",
              "      <td>90</td>\n",
              "      <td>72</td>\n",
              "      <td>60</td>\n",
              "      <td>56</td>\n",
              "      <td>77</td>\n",
              "      <td>94</td>\n",
              "      <td>91</td>\n",
              "      <td>87</td>\n",
              "      <td>79</td>\n",
              "      <td>140</td>\n",
              "      <td>145</td>\n",
              "      <td>125</td>\n",
              "      <td>124</td>\n",
              "      <td>150</td>\n",
              "      <td>152</td>\n",
              "      <td>174</td>\n",
              "      <td>178</td>\n",
              "      <td>...</td>\n",
              "      <td>20</td>\n",
              "      <td>77</td>\n",
              "      <td>58</td>\n",
              "      <td>52</td>\n",
              "      <td>73</td>\n",
              "      <td>96</td>\n",
              "      <td>120</td>\n",
              "      <td>131</td>\n",
              "      <td>120</td>\n",
              "      <td>122</td>\n",
              "      <td>133</td>\n",
              "      <td>125</td>\n",
              "      <td>32</td>\n",
              "      <td>12</td>\n",
              "      <td>19</td>\n",
              "      <td>70</td>\n",
              "      <td>122</td>\n",
              "      <td>107</td>\n",
              "      <td>99</td>\n",
              "      <td>91</td>\n",
              "      <td>62</td>\n",
              "      <td>30</td>\n",
              "      <td>20</td>\n",
              "      <td>21</td>\n",
              "      <td>42</td>\n",
              "      <td>48</td>\n",
              "      <td>28</td>\n",
              "      <td>11</td>\n",
              "      <td>11</td>\n",
              "      <td>12</td>\n",
              "      <td>22</td>\n",
              "      <td>42</td>\n",
              "      <td>67</td>\n",
              "      <td>101</td>\n",
              "      <td>122</td>\n",
              "      <td>133</td>\n",
              "      <td>136</td>\n",
              "      <td>139</td>\n",
              "      <td>142</td>\n",
              "      <td>144</td>\n",
              "    </tr>\n",
              "    <tr>\n",
              "      <th>2</th>\n",
              "      <td>255</td>\n",
              "      <td>253</td>\n",
              "      <td>253</td>\n",
              "      <td>253</td>\n",
              "      <td>253</td>\n",
              "      <td>253</td>\n",
              "      <td>253</td>\n",
              "      <td>253</td>\n",
              "      <td>253</td>\n",
              "      <td>253</td>\n",
              "      <td>253</td>\n",
              "      <td>253</td>\n",
              "      <td>253</td>\n",
              "      <td>253</td>\n",
              "      <td>253</td>\n",
              "      <td>254</td>\n",
              "      <td>245</td>\n",
              "      <td>226</td>\n",
              "      <td>244</td>\n",
              "      <td>241</td>\n",
              "      <td>250</td>\n",
              "      <td>253</td>\n",
              "      <td>252</td>\n",
              "      <td>250</td>\n",
              "      <td>253</td>\n",
              "      <td>253</td>\n",
              "      <td>253</td>\n",
              "      <td>253</td>\n",
              "      <td>253</td>\n",
              "      <td>253</td>\n",
              "      <td>253</td>\n",
              "      <td>253</td>\n",
              "      <td>255</td>\n",
              "      <td>255</td>\n",
              "      <td>255</td>\n",
              "      <td>255</td>\n",
              "      <td>255</td>\n",
              "      <td>255</td>\n",
              "      <td>255</td>\n",
              "      <td>255</td>\n",
              "      <td>...</td>\n",
              "      <td>77</td>\n",
              "      <td>67</td>\n",
              "      <td>68</td>\n",
              "      <td>76</td>\n",
              "      <td>78</td>\n",
              "      <td>73</td>\n",
              "      <td>75</td>\n",
              "      <td>82</td>\n",
              "      <td>105</td>\n",
              "      <td>98</td>\n",
              "      <td>94</td>\n",
              "      <td>88</td>\n",
              "      <td>87</td>\n",
              "      <td>86</td>\n",
              "      <td>86</td>\n",
              "      <td>89</td>\n",
              "      <td>91</td>\n",
              "      <td>92</td>\n",
              "      <td>88</td>\n",
              "      <td>89</td>\n",
              "      <td>86</td>\n",
              "      <td>85</td>\n",
              "      <td>91</td>\n",
              "      <td>94</td>\n",
              "      <td>95</td>\n",
              "      <td>94</td>\n",
              "      <td>92</td>\n",
              "      <td>90</td>\n",
              "      <td>86</td>\n",
              "      <td>78</td>\n",
              "      <td>78</td>\n",
              "      <td>83</td>\n",
              "      <td>80</td>\n",
              "      <td>69</td>\n",
              "      <td>66</td>\n",
              "      <td>72</td>\n",
              "      <td>79</td>\n",
              "      <td>83</td>\n",
              "      <td>83</td>\n",
              "      <td>84</td>\n",
              "    </tr>\n",
              "    <tr>\n",
              "      <th>3</th>\n",
              "      <td>28</td>\n",
              "      <td>37</td>\n",
              "      <td>38</td>\n",
              "      <td>42</td>\n",
              "      <td>44</td>\n",
              "      <td>40</td>\n",
              "      <td>40</td>\n",
              "      <td>24</td>\n",
              "      <td>32</td>\n",
              "      <td>43</td>\n",
              "      <td>30</td>\n",
              "      <td>32</td>\n",
              "      <td>41</td>\n",
              "      <td>52</td>\n",
              "      <td>67</td>\n",
              "      <td>50</td>\n",
              "      <td>44</td>\n",
              "      <td>43</td>\n",
              "      <td>38</td>\n",
              "      <td>38</td>\n",
              "      <td>41</td>\n",
              "      <td>47</td>\n",
              "      <td>62</td>\n",
              "      <td>87</td>\n",
              "      <td>60</td>\n",
              "      <td>49</td>\n",
              "      <td>63</td>\n",
              "      <td>59</td>\n",
              "      <td>48</td>\n",
              "      <td>76</td>\n",
              "      <td>81</td>\n",
              "      <td>85</td>\n",
              "      <td>33</td>\n",
              "      <td>34</td>\n",
              "      <td>32</td>\n",
              "      <td>39</td>\n",
              "      <td>35</td>\n",
              "      <td>38</td>\n",
              "      <td>38</td>\n",
              "      <td>40</td>\n",
              "      <td>...</td>\n",
              "      <td>77</td>\n",
              "      <td>70</td>\n",
              "      <td>68</td>\n",
              "      <td>68</td>\n",
              "      <td>66</td>\n",
              "      <td>53</td>\n",
              "      <td>49</td>\n",
              "      <td>55</td>\n",
              "      <td>56</td>\n",
              "      <td>53</td>\n",
              "      <td>53</td>\n",
              "      <td>61</td>\n",
              "      <td>61</td>\n",
              "      <td>59</td>\n",
              "      <td>61</td>\n",
              "      <td>44</td>\n",
              "      <td>40</td>\n",
              "      <td>49</td>\n",
              "      <td>53</td>\n",
              "      <td>56</td>\n",
              "      <td>58</td>\n",
              "      <td>57</td>\n",
              "      <td>62</td>\n",
              "      <td>74</td>\n",
              "      <td>62</td>\n",
              "      <td>58</td>\n",
              "      <td>55</td>\n",
              "      <td>67</td>\n",
              "      <td>54</td>\n",
              "      <td>66</td>\n",
              "      <td>53</td>\n",
              "      <td>39</td>\n",
              "      <td>59</td>\n",
              "      <td>42</td>\n",
              "      <td>44</td>\n",
              "      <td>48</td>\n",
              "      <td>38</td>\n",
              "      <td>28</td>\n",
              "      <td>37</td>\n",
              "      <td>46</td>\n",
              "    </tr>\n",
              "    <tr>\n",
              "      <th>4</th>\n",
              "      <td>170</td>\n",
              "      <td>168</td>\n",
              "      <td>177</td>\n",
              "      <td>183</td>\n",
              "      <td>181</td>\n",
              "      <td>177</td>\n",
              "      <td>181</td>\n",
              "      <td>184</td>\n",
              "      <td>189</td>\n",
              "      <td>189</td>\n",
              "      <td>188</td>\n",
              "      <td>183</td>\n",
              "      <td>182</td>\n",
              "      <td>184</td>\n",
              "      <td>184</td>\n",
              "      <td>180</td>\n",
              "      <td>177</td>\n",
              "      <td>177</td>\n",
              "      <td>177</td>\n",
              "      <td>176</td>\n",
              "      <td>175</td>\n",
              "      <td>175</td>\n",
              "      <td>173</td>\n",
              "      <td>170</td>\n",
              "      <td>169</td>\n",
              "      <td>168</td>\n",
              "      <td>166</td>\n",
              "      <td>163</td>\n",
              "      <td>163</td>\n",
              "      <td>162</td>\n",
              "      <td>158</td>\n",
              "      <td>157</td>\n",
              "      <td>168</td>\n",
              "      <td>172</td>\n",
              "      <td>171</td>\n",
              "      <td>166</td>\n",
              "      <td>171</td>\n",
              "      <td>174</td>\n",
              "      <td>177</td>\n",
              "      <td>179</td>\n",
              "      <td>...</td>\n",
              "      <td>77</td>\n",
              "      <td>77</td>\n",
              "      <td>75</td>\n",
              "      <td>73</td>\n",
              "      <td>79</td>\n",
              "      <td>83</td>\n",
              "      <td>78</td>\n",
              "      <td>78</td>\n",
              "      <td>78</td>\n",
              "      <td>79</td>\n",
              "      <td>76</td>\n",
              "      <td>75</td>\n",
              "      <td>82</td>\n",
              "      <td>84</td>\n",
              "      <td>84</td>\n",
              "      <td>89</td>\n",
              "      <td>87</td>\n",
              "      <td>92</td>\n",
              "      <td>93</td>\n",
              "      <td>97</td>\n",
              "      <td>96</td>\n",
              "      <td>98</td>\n",
              "      <td>99</td>\n",
              "      <td>101</td>\n",
              "      <td>102</td>\n",
              "      <td>102</td>\n",
              "      <td>101</td>\n",
              "      <td>102</td>\n",
              "      <td>99</td>\n",
              "      <td>97</td>\n",
              "      <td>92</td>\n",
              "      <td>88</td>\n",
              "      <td>85</td>\n",
              "      <td>82</td>\n",
              "      <td>83</td>\n",
              "      <td>79</td>\n",
              "      <td>78</td>\n",
              "      <td>82</td>\n",
              "      <td>78</td>\n",
              "      <td>80</td>\n",
              "    </tr>\n",
              "  </tbody>\n",
              "</table>\n",
              "<p>5 rows × 3072 columns</p>\n",
              "</div>"
            ],
            "text/plain": [
              "   0     1     2     3     4     5     ...  3066  3067  3068  3069  3070  3071\n",
              "0    59    43    50    68    98   119  ...    46    57   104   140    84    72\n",
              "1   154   126   105   102   125   155  ...   122   133   136   139   142   144\n",
              "2   255   253   253   253   253   253  ...    66    72    79    83    83    84\n",
              "3    28    37    38    42    44    40  ...    44    48    38    28    37    46\n",
              "4   170   168   177   183   181   177  ...    83    79    78    82    78    80\n",
              "\n",
              "[5 rows x 3072 columns]"
            ]
          },
          "metadata": {
            "tags": []
          },
          "execution_count": 9
        }
      ]
    },
    {
      "cell_type": "markdown",
      "metadata": {
        "id": "ESxc-72lK2Dc"
      },
      "source": [
        "To look at each image, we need to convert each 1D rows into 32x32x3 RGB tensor "
      ]
    },
    {
      "cell_type": "code",
      "metadata": {
        "colab": {
          "base_uri": "https://localhost:8080/"
        },
        "id": "0OTbWCjqElV1",
        "outputId": "e9dff88f-1b75-42aa-f9d5-168e1cba0dde"
      },
      "source": [
        "train.shape, test.shape"
      ],
      "execution_count": 18,
      "outputs": [
        {
          "output_type": "execute_result",
          "data": {
            "text/plain": [
              "((50000, 3072), (10000, 3072))"
            ]
          },
          "metadata": {
            "tags": []
          },
          "execution_count": 18
        }
      ]
    },
    {
      "cell_type": "code",
      "metadata": {
        "colab": {
          "base_uri": "https://localhost:8080/"
        },
        "id": "oaKagnuMLX09",
        "outputId": "9b30f1b1-07d5-45ea-b59b-395427c3afb5"
      },
      "source": [
        "img1 = np.array(train.iloc[0])\n",
        "print(img1.shape)\n",
        "print(type(img1))"
      ],
      "execution_count": 20,
      "outputs": [
        {
          "output_type": "stream",
          "text": [
            "(3072,)\n",
            "<class 'numpy.ndarray'>\n"
          ],
          "name": "stdout"
        }
      ]
    },
    {
      "cell_type": "code",
      "metadata": {
        "colab": {
          "base_uri": "https://localhost:8080/"
        },
        "id": "kKpOljTZLei7",
        "outputId": "6eb7f015-743d-438b-b9cd-047b78e31e6a"
      },
      "source": [
        "# converting 1D vector into 3D RGB tensor\n",
        "img1 = img1.reshape(32, 32, 3)\n",
        "print(img1.shape)\n",
        "print(type(img1))"
      ],
      "execution_count": 25,
      "outputs": [
        {
          "output_type": "stream",
          "text": [
            "(32, 32, 3)\n",
            "<class 'numpy.ndarray'>\n"
          ],
          "name": "stdout"
        }
      ]
    },
    {
      "cell_type": "code",
      "metadata": {
        "colab": {
          "base_uri": "https://localhost:8080/",
          "height": 243
        },
        "id": "G7ajJ5nILvfS",
        "outputId": "7ea24b64-0c13-44b3-a3a0-ea3d05ec9aac"
      },
      "source": [
        "img = Image.fromarray(img1)\n",
        "img.resize((226, 226))"
      ],
      "execution_count": 29,
      "outputs": [
        {
          "output_type": "execute_result",
          "data": {
            "image/png": "[encoded data removed]",
            "text/plain": [
              "<PIL.Image.Image image mode=RGB size=226x226 at 0x7FC665261C10>"
            ]
          },
          "metadata": {
            "tags": []
          },
          "execution_count": 29
        }
      ]
    },
    {
      "cell_type": "code",
      "metadata": {
        "id": "oixJQBLxLy4q"
      },
      "source": [
        ""
      ],
      "execution_count": null,
      "outputs": []
    }
  ]
}