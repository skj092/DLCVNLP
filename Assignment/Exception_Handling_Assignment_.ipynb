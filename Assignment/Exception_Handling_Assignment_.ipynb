{
 "cells": [
  {
   "cell_type": "markdown",
   "metadata": {
    "colab_type": "text",
    "id": "view-in-github"
   },
   "source": [
    "<a href=\"https://colab.research.google.com/github/skj092/iNeuron/blob/main/Exception_Handling_Assignment_.ipynb\" target=\"_parent\"><img src=\"https://colab.research.google.com/assets/colab-badge.svg\" alt=\"Open In Colab\"/></a>"
   ]
  },
  {
   "cell_type": "markdown",
   "metadata": {
    "id": "o0BDVr-rbtBT"
   },
   "source": [
    "`1. Write a funciton to compute 5/0 and use try/except to catch the exceptions.`"
   ]
  },
  {
   "cell_type": "code",
   "execution_count": 1,
   "metadata": {
    "colab": {
     "base_uri": "https://localhost:8080/"
    },
    "id": "I8TY0QKZaCLs",
    "outputId": "6e1b6d16-5d52-4bc6-8a71-8133b09d2501"
   },
   "outputs": [
    {
     "name": "stdout",
     "output_type": "stream",
     "text": [
      "Error : Device by zero\n"
     ]
    }
   ],
   "source": [
    "# solution\n",
    "\n",
    "a = 5\n",
    "b = 0\n",
    "try:\n",
    "    c = a/b \n",
    "except:\n",
    "    print('Error : Device by zero') \n",
    "else:\n",
    "    print(c)"
   ]
  },
  {
   "cell_type": "markdown",
   "metadata": {
    "id": "wh0_CSEQaKxZ"
   },
   "source": [
    "`2. Implement a Python program to generate all sentences where subject is in ['Americans', \"indians\"] and verb is in [\"Play\", \"watch\"] and the object is in ['Baseball','cricket'].`\n",
    "`hint : subject, verb and object should be declared in the program as show below.`\n",
    "`subjects = ['Americans', 'Indians']`\n",
    "`verbs = ['play', 'watch']`\n",
    "`objects = ['Baseball', 'Cricket']`\n",
    "\n",
    "* Output should come as below\n",
    "* Americans play Baseball\n",
    "* Americans play Cricket\n",
    "* Americans watch Baseball\n",
    "* Americans watch Cricket\n",
    "* Indians play Baseball\n",
    "* Indians play Cricket\n",
    "* Indians watch Baseball\n",
    "* Indians watch Cricket"
   ]
  },
  {
   "cell_type": "code",
   "execution_count": 2,
   "metadata": {
    "colab": {
     "base_uri": "https://localhost:8080/"
    },
    "id": "1QBG9zsqaGlo",
    "outputId": "09dbef5b-f47b-4cad-b2aa-830587277d56"
   },
   "outputs": [
    {
     "name": "stdout",
     "output_type": "stream",
     "text": [
      "Americans play Baseball\n",
      "Americans play Cricket\n",
      "Americans watch Baseball\n",
      "Americans watch Cricket\n",
      "Indians play Baseball\n",
      "Indians play Cricket\n",
      "Indians watch Baseball\n",
      "Indians watch Cricket\n"
     ]
    }
   ],
   "source": [
    "# solution\n",
    "\n",
    "subjects = ['Americans', 'Indians']\n",
    "verbs = ['play', 'watch']\n",
    "objects = ['Baseball', 'Cricket'] \n",
    "\n",
    "agg = [subjects, verbs, objects]\n",
    "import itertools\n",
    "for s1, s2, s3 in list(itertools.product(*agg)):\n",
    "    print(s1, s2, s3)"
   ]
  },
  {
   "cell_type": "code",
   "execution_count": null,
   "metadata": {
    "id": "x0VlR87KcPhl"
   },
   "outputs": [],
   "source": []
  }
 ],
 "metadata": {
  "colab": {
   "authorship_tag": "ABX9TyNDyT+cFVgXIekAJNkjKNfG",
   "include_colab_link": true,
   "name": "Exception_Handling_Assignment_.ipynb",
   "provenance": []
  },
  "kernelspec": {
   "display_name": "Python 3",
   "language": "python",
   "name": "python3"
  },
  "language_info": {
   "codemirror_mode": {
    "name": "ipython",
    "version": 3
   },
   "file_extension": ".py",
   "mimetype": "text/x-python",
   "name": "python",
   "nbconvert_exporter": "python",
   "pygments_lexer": "ipython3",
   "version": "3.9.1"
  }
 },
 "nbformat": 4,
 "nbformat_minor": 1
}
