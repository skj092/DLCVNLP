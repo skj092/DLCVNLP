{
  "nbformat": 4,
  "nbformat_minor": 0,
  "metadata": {
    "colab": {
      "name": "Python Assignment 2.ipynb",
      "provenance": [],
      "authorship_tag": "ABX9TyNfaTeNUJSXspzpsMK6DbWq",
      "include_colab_link": true
    },
    "kernelspec": {
      "name": "python3",
      "display_name": "Python 3"
    }
  },
  "cells": [
    {
      "cell_type": "markdown",
      "metadata": {
        "id": "view-in-github",
        "colab_type": "text"
      },
      "source": [
        "<a href=\"https://colab.research.google.com/github/skj092/iNeuron/blob/main/Python_Assignment_2.ipynb\" target=\"_parent\"><img src=\"https://colab.research.google.com/assets/colab-badge.svg\" alt=\"Open In Colab\"/></a>"
      ]
    },
    {
      "cell_type": "markdown",
      "metadata": {
        "id": "mHzGcYHf3eFZ"
      },
      "source": [
        "# Problem 1"
      ]
    },
    {
      "cell_type": "code",
      "metadata": {
        "id": "jmN3wpoq3ntU",
        "colab": {
          "base_uri": "https://localhost:8080/",
          "height": 35
        },
        "outputId": "978431ed-6878-4315-8451-36a15edb433b"
      },
      "source": [
        "# Create the below pattern using nested for loop in Python\r\n",
        "'''\r\n",
        "\r\n",
        "*\r\n",
        "* *\r\n",
        "* * *\r\n",
        "* * * *\r\n",
        "* * * * * \r\n",
        "* * * * \r\n",
        "* * * \r\n",
        "* * \r\n",
        "*\r\n",
        "\r\n",
        "'''"
      ],
      "execution_count": 62,
      "outputs": [
        {
          "output_type": "execute_result",
          "data": {
            "application/vnd.google.colaboratory.intrinsic+json": {
              "type": "string"
            },
            "text/plain": [
              "'\\n\\n*\\n* *\\n* * *\\n* * * *\\n* * * * * \\n* * * * \\n* * * \\n* * \\n*\\n\\n'"
            ]
          },
          "metadata": {
            "tags": []
          },
          "execution_count": 62
        }
      ]
    },
    {
      "cell_type": "code",
      "metadata": {
        "colab": {
          "base_uri": "https://localhost:8080/"
        },
        "id": "CwUWn3AJ5gLl",
        "outputId": "02ca5f69-c9e4-4af1-a66f-80cc850c1216"
      },
      "source": [
        "# Solution : \r\n",
        "\r\n",
        "n=5\r\n",
        "for i in range(n):\r\n",
        "    print('* '*i)\r\n",
        "for i in range(n, 0, -1):\r\n",
        "  print('* '* i)"
      ],
      "execution_count": 58,
      "outputs": [
        {
          "output_type": "stream",
          "text": [
            "\n",
            "* \n",
            "* * \n",
            "* * * \n",
            "* * * * \n",
            "* * * * * \n",
            "* * * * \n",
            "* * * \n",
            "* * \n",
            "* \n"
          ],
          "name": "stdout"
        }
      ]
    },
    {
      "cell_type": "markdown",
      "metadata": {
        "id": "wHtVORvn312D"
      },
      "source": [
        "# Problem 2"
      ]
    },
    {
      "cell_type": "markdown",
      "metadata": {
        "id": "4g5zIFTb38Bm"
      },
      "source": [
        "*Write a Python program to reverse a word after accepting the input from the user . </br>\r\n",
        "Input word : ineuron </br>\r\n",
        "Output : norueni*"
      ]
    },
    {
      "cell_type": "code",
      "metadata": {
        "colab": {
          "base_uri": "https://localhost:8080/"
        },
        "id": "xmO5YthN4OCu",
        "outputId": "9f00748d-43ed-4f60-9b60-627d94775f26"
      },
      "source": [
        "# Solution\r\n",
        "\r\n",
        "# input from user\r\n",
        "word = input('Please enter a word : ')\r\n",
        "\r\n",
        "# printing word in reverse order\r\n",
        "print(f\"Your word in reverse order : {word[::-1]}\")"
      ],
      "execution_count": 63,
      "outputs": [
        {
          "output_type": "stream",
          "text": [
            "Please enter a word : Sonu\n",
            "Your word in reverse order : unoS\n"
          ],
          "name": "stdout"
        }
      ]
    },
    {
      "cell_type": "code",
      "metadata": {
        "id": "lIkI9bmt-nl9"
      },
      "source": [
        ""
      ],
      "execution_count": null,
      "outputs": []
    }
  ]
}