{
  "nbformat": 4,
  "nbformat_minor": 0,
  "metadata": {
    "colab": {
      "name": "Python Assignment 1.ipynb",
      "provenance": [],
      "authorship_tag": "ABX9TyMQ2Y81fPj6M4lKgKIQmnno",
      "include_colab_link": true
    },
    "kernelspec": {
      "name": "python3",
      "display_name": "Python 3"
    }
  },
  "cells": [
    {
      "cell_type": "markdown",
      "metadata": {
        "id": "view-in-github",
        "colab_type": "text"
      },
      "source": [
        "<a href=\"https://colab.research.google.com/github/skj092/iNeuron/blob/main/Python_Assignment_1.ipynb\" target=\"_parent\"><img src=\"https://colab.research.google.com/assets/colab-badge.svg\" alt=\"Open In Colab\"/></a>"
      ]
    },
    {
      "cell_type": "markdown",
      "metadata": {
        "id": "aWKm2yE21zy6"
      },
      "source": [
        "# Problem 1"
      ]
    },
    {
      "cell_type": "markdown",
      "metadata": {
        "id": "hW9VgJv8037N"
      },
      "source": [
        "**Write a program which will find all such numbers which are divisible by 7\r\n",
        "but are not a multiple of 5, between 2000 and 3200 (both included). the numbers\r\n",
        "obtained should be printed in a comma-separated sequence ona single line.**"
      ]
    },
    {
      "cell_type": "code",
      "metadata": {
        "colab": {
          "base_uri": "https://localhost:8080/"
        },
        "id": "A8FUtL0I1ZpT",
        "outputId": "f97dc2bc-1f2d-413b-94d8-231e4637f8e3"
      },
      "source": [
        "# Solution\r\n",
        "\r\n",
        "# number between 2000 and 3200(including 3200)\r\n",
        "for i in range(2000, 3200+1):\r\n",
        "    # number which is divisible by 7 but not multiple by 5\r\n",
        "    if ((i%7==0)&(i%5!=0)):     \r\n",
        "        print(i, end=\",\")"
      ],
      "execution_count": 1,
      "outputs": [
        {
          "output_type": "stream",
          "text": [
            "2002,2009,2016,2023,2037,2044,2051,2058,2072,2079,2086,2093,2107,2114,2121,2128,2142,2149,2156,2163,2177,2184,2191,2198,2212,2219,2226,2233,2247,2254,2261,2268,2282,2289,2296,2303,2317,2324,2331,2338,2352,2359,2366,2373,2387,2394,2401,2408,2422,2429,2436,2443,2457,2464,2471,2478,2492,2499,2506,2513,2527,2534,2541,2548,2562,2569,2576,2583,2597,2604,2611,2618,2632,2639,2646,2653,2667,2674,2681,2688,2702,2709,2716,2723,2737,2744,2751,2758,2772,2779,2786,2793,2807,2814,2821,2828,2842,2849,2856,2863,2877,2884,2891,2898,2912,2919,2926,2933,2947,2954,2961,2968,2982,2989,2996,3003,3017,3024,3031,3038,3052,3059,3066,3073,3087,3094,3101,3108,3122,3129,3136,3143,3157,3164,3171,3178,3192,3199,"
          ],
          "name": "stdout"
        }
      ]
    },
    {
      "cell_type": "markdown",
      "metadata": {
        "id": "zh8wT7fU1dKv"
      },
      "source": [
        "# Problem 2"
      ]
    },
    {
      "cell_type": "markdown",
      "metadata": {
        "id": "v-5CP2Ub1hN5"
      },
      "source": [
        "**Write a Python program to accept the user's first and last name and then\r\n",
        "getting them printed in the reverse order with a space between first name\r\n",
        "and last name**"
      ]
    },
    {
      "cell_type": "code",
      "metadata": {
        "colab": {
          "base_uri": "https://localhost:8080/"
        },
        "id": "2iZYjHLt1nkf",
        "outputId": "88a1c798-a58e-49a8-90f6-696664ee0d0c"
      },
      "source": [
        "# Solution\r\n",
        "\r\n",
        "# User input first name\r\n",
        "FirstName = input(\"Please enter your first name : \")\r\n",
        "\r\n",
        "# user input last name\r\n",
        "LastName = input(\"Please enter your last name : \")\r\n",
        "\r\n",
        "# Printing in reverse order\r\n",
        "print(f\"Name in reverse order : {LastName} {FirstName}\")"
      ],
      "execution_count": 3,
      "outputs": [
        {
          "output_type": "stream",
          "text": [
            "Please enter your first name : sonu\n",
            "Please enter your last name : jha\n",
            "Name in reverse order : jha sonu\n"
          ],
          "name": "stdout"
        }
      ]
    },
    {
      "cell_type": "markdown",
      "metadata": {
        "id": "0dzLXWl21p3W"
      },
      "source": [
        "# Problem 3"
      ]
    },
    {
      "cell_type": "markdown",
      "metadata": {
        "id": "wqyvJi7U1ttX"
      },
      "source": [
        "**Write a Python program to find the volume of a sphere with diameter 12 cm.\r\n",
        "Formula: V = 4/3 * pi * r^3**"
      ]
    },
    {
      "cell_type": "code",
      "metadata": {
        "colab": {
          "base_uri": "https://localhost:8080/"
        },
        "id": "vGW-csgA0l54",
        "outputId": "df0241b7-6703-4ee4-c842-94e55220ade7"
      },
      "source": [
        "# Solution \r\n",
        "\r\n",
        "import math\r\n",
        "\r\n",
        "# dimeter of the shpere in cm\r\n",
        "d = 12\r\n",
        "\r\n",
        "# redius is half of the diameter\r\n",
        "r = d/2\r\n",
        "\r\n",
        "# Volume of the shpere is\r\n",
        "V = 4/3 * math.pi * r**3\r\n",
        "\r\n",
        "print(f\"Volume of the sphere of diameter {d} cm is {'%.2f' %V} cubic cm.\")"
      ],
      "execution_count": 5,
      "outputs": [
        {
          "output_type": "stream",
          "text": [
            "Volume of the sphere of diameter 12 cm is 904.78 cubic cm.\n"
          ],
          "name": "stdout"
        }
      ]
    },
    {
      "cell_type": "code",
      "metadata": {
        "id": "UAFFQKFq2oku"
      },
      "source": [
        ""
      ],
      "execution_count": null,
      "outputs": []
    }
  ]
}